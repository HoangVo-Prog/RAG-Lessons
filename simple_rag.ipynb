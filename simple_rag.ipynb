{
 "cells": [
  {
   "cell_type": "markdown",
   "metadata": {
    "colab_type": "text",
    "id": "view-in-github"
   },
   "source": [
    "<a href=\"https://colab.research.google.com/github/HoangVo-Prog/RAG-Lessons/blob/main/simple_rag.ipynb\" target=\"_parent\"><img src=\"https://colab.research.google.com/assets/colab-badge.svg\" alt=\"Open In Colab\"/></a>"
   ]
  },
  {
   "cell_type": "markdown",
   "metadata": {
    "id": "QFq3wKIK-BE0"
   },
   "source": [
    "[![Open in Colab](https://colab.research.google.com/assets/colab-badge.svg)](https://colab.research.google.com/github/NirDiamant/RAG_Techniques/blob/main/all_rag_techniques/simple_rag.ipynb)"
   ]
  },
  {
   "cell_type": "markdown",
   "metadata": {
    "id": "eKPK-_pj-BE3"
   },
   "source": [
    "# Simple RAG (Retrieval-Augmented Generation) System\n",
    "\n",
    "## Overview\n",
    "\n",
    "This code implements a basic Retrieval-Augmented Generation (RAG) system for processing and querying PDF documents. The system encodes the document content into a vector store, which can then be queried to retrieve relevant information.\n",
    "\n",
    "## Key Components\n",
    "\n",
    "1. PDF processing and text extraction\n",
    "2. Text chunking for manageable processing\n",
    "3. Vector store creation using [FAISS](https://engineering.fb.com/2017/03/29/data-infrastructure/faiss-a-library-for-efficient-similarity-search/) and OpenAI embeddings\n",
    "4. Retriever setup for querying the processed documents\n",
    "5. Evaluation of the RAG system\n",
    "\n",
    "## Method Details\n",
    "\n",
    "### Document Preprocessing\n",
    "\n",
    "1. The PDF is loaded using PyPDFLoader.\n",
    "2. The text is split into chunks using RecursiveCharacterTextSplitter with specified chunk size and overlap.\n",
    "\n",
    "### Text Cleaning\n",
    "\n",
    "A custom function `replace_t_with_space` is applied to clean the text chunks. This likely addresses specific formatting issues in the PDF.\n",
    "\n",
    "### Vector Store Creation\n",
    "\n",
    "1. OpenAI embeddings are used to create vector representations of the text chunks.\n",
    "2. A FAISS vector store is created from these embeddings for efficient similarity search.\n",
    "\n",
    "### Retriever Setup\n",
    "\n",
    "1. A retriever is configured to fetch the top 2 most relevant chunks for a given query.\n",
    "\n",
    "### Encoding Function\n",
    "\n",
    "The `encode_pdf` function encapsulates the entire process of loading, chunking, cleaning, and encoding the PDF into a vector store.\n",
    "\n",
    "## Key Features\n",
    "\n",
    "1. Modular Design: The encoding process is encapsulated in a single function for easy reuse.\n",
    "2. Configurable Chunking: Allows adjustment of chunk size and overlap.\n",
    "3. Efficient Retrieval: Uses FAISS for fast similarity search.\n",
    "4. Evaluation: Includes a function to evaluate the RAG system's performance.\n",
    "\n",
    "## Usage Example\n",
    "\n",
    "The code includes a test query: \"What is the main cause of climate change?\". This demonstrates how to use the retriever to fetch relevant context from the processed document.\n",
    "\n",
    "## Evaluation\n",
    "\n",
    "The system includes an `evaluate_rag` function to assess the performance of the retriever, though the specific metrics used are not detailed in the provided code.\n",
    "\n",
    "## Benefits of this Approach\n",
    "\n",
    "1. Scalability: Can handle large documents by processing them in chunks.\n",
    "2. Flexibility: Easy to adjust parameters like chunk size and number of retrieved results.\n",
    "3. Efficiency: Utilizes FAISS for fast similarity search in high-dimensional spaces.\n",
    "4. Integration with Advanced NLP: Uses OpenAI embeddings for state-of-the-art text representation.\n",
    "\n",
    "## Conclusion\n",
    "\n",
    "This simple RAG system provides a solid foundation for building more complex information retrieval and question-answering systems. By encoding document content into a searchable vector store, it enables efficient retrieval of relevant information in response to queries. This approach is particularly useful for applications requiring quick access to specific information within large documents or document collections."
   ]
  },
  {
   "cell_type": "markdown",
   "metadata": {
    "id": "XvUHveE5-BE3"
   },
   "source": [
    "# Package Installation and Imports\n",
    "\n",
    "The cell below installs all necessary packages required to run this notebook.\n"
   ]
  },
  {
   "cell_type": "code",
   "execution_count": 1,
   "metadata": {
    "colab": {
     "base_uri": "https://localhost:8080/"
    },
    "id": "xVaHWFwh-BE4",
    "outputId": "b54ff7c8-2b8c-48f9-e1f3-8c5e2c20770e"
   },
   "outputs": [
    {
     "name": "stdout",
     "output_type": "stream",
     "text": [
      "\u001b[2K   \u001b[90m━━━━━━━━━━━━━━━━━━━━━━━━━━━━━━━━━━━━━━━━\u001b[0m \u001b[32m304.2/304.2 kB\u001b[0m \u001b[31m21.0 MB/s\u001b[0m eta \u001b[36m0:00:00\u001b[0m\n",
      "\u001b[2K   \u001b[90m━━━━━━━━━━━━━━━━━━━━━━━━━━━━━━━━━━━━━━━━\u001b[0m \u001b[32m24.1/24.1 MB\u001b[0m \u001b[31m88.5 MB/s\u001b[0m eta \u001b[36m0:00:00\u001b[0m\n",
      "\u001b[2K   \u001b[90m━━━━━━━━━━━━━━━━━━━━━━━━━━━━━━━━━━━━━━━━\u001b[0m \u001b[32m2.5/2.5 MB\u001b[0m \u001b[31m83.5 MB/s\u001b[0m eta \u001b[36m0:00:00\u001b[0m\n",
      "\u001b[2K   \u001b[90m━━━━━━━━━━━━━━━━━━━━━━━━━━━━━━━━━━━━━━━━\u001b[0m \u001b[32m65.4/65.4 kB\u001b[0m \u001b[31m6.5 MB/s\u001b[0m eta \u001b[36m0:00:00\u001b[0m\n",
      "\u001b[2K   \u001b[90m━━━━━━━━━━━━━━━━━━━━━━━━━━━━━━━━━━━━━━━━\u001b[0m \u001b[32m31.3/31.3 MB\u001b[0m \u001b[31m27.9 MB/s\u001b[0m eta \u001b[36m0:00:00\u001b[0m\n",
      "\u001b[2K   \u001b[90m━━━━━━━━━━━━━━━━━━━━━━━━━━━━━━━━━━━━━━━━\u001b[0m \u001b[32m548.0/548.0 kB\u001b[0m \u001b[31m36.1 MB/s\u001b[0m eta \u001b[36m0:00:00\u001b[0m\n",
      "\u001b[2K   \u001b[90m━━━━━━━━━━━━━━━━━━━━━━━━━━━━━━━━━━━━━━━━\u001b[0m \u001b[32m98.2/98.2 kB\u001b[0m \u001b[31m9.5 MB/s\u001b[0m eta \u001b[36m0:00:00\u001b[0m\n",
      "\u001b[2K   \u001b[90m━━━━━━━━━━━━━━━━━━━━━━━━━━━━━━━━━━━━━━━━\u001b[0m \u001b[32m363.0/363.0 kB\u001b[0m \u001b[31m31.3 MB/s\u001b[0m eta \u001b[36m0:00:00\u001b[0m\n",
      "\u001b[2K   \u001b[90m━━━━━━━━━━━━━━━━━━━━━━━━━━━━━━━━━━━━━━━━\u001b[0m \u001b[32m65.6/65.6 kB\u001b[0m \u001b[31m5.7 MB/s\u001b[0m eta \u001b[36m0:00:00\u001b[0m\n",
      "\u001b[2K   \u001b[90m━━━━━━━━━━━━━━━━━━━━━━━━━━━━━━━━━━━━━━━━\u001b[0m \u001b[32m72.5/72.5 kB\u001b[0m \u001b[31m6.8 MB/s\u001b[0m eta \u001b[36m0:00:00\u001b[0m\n",
      "\u001b[2K   \u001b[90m━━━━━━━━━━━━━━━━━━━━━━━━━━━━━━━━━━━━━━━━\u001b[0m \u001b[32m119.4/119.4 kB\u001b[0m \u001b[31m11.5 MB/s\u001b[0m eta \u001b[36m0:00:00\u001b[0m\n",
      "\u001b[2K   \u001b[90m━━━━━━━━━━━━━━━━━━━━━━━━━━━━━━━━━━━━━━━━\u001b[0m \u001b[32m201.6/201.6 kB\u001b[0m \u001b[31m19.0 MB/s\u001b[0m eta \u001b[36m0:00:00\u001b[0m\n",
      "\u001b[2K   \u001b[90m━━━━━━━━━━━━━━━━━━━━━━━━━━━━━━━━━━━━━━━━\u001b[0m \u001b[32m89.1/89.1 kB\u001b[0m \u001b[31m8.8 MB/s\u001b[0m eta \u001b[36m0:00:00\u001b[0m\n",
      "\u001b[2K   \u001b[90m━━━━━━━━━━━━━━━━━━━━━━━━━━━━━━━━━━━━━━━━\u001b[0m \u001b[32m45.2/45.2 kB\u001b[0m \u001b[31m4.2 MB/s\u001b[0m eta \u001b[36m0:00:00\u001b[0m\n",
      "\u001b[2K   \u001b[90m━━━━━━━━━━━━━━━━━━━━━━━━━━━━━━━━━━━━━━━━\u001b[0m \u001b[32m292.8/292.8 kB\u001b[0m \u001b[31m26.0 MB/s\u001b[0m eta \u001b[36m0:00:00\u001b[0m\n",
      "\u001b[2K   \u001b[90m━━━━━━━━━━━━━━━━━━━━━━━━━━━━━━━━━━━━━━━━\u001b[0m \u001b[32m1.1/1.1 MB\u001b[0m \u001b[31m66.2 MB/s\u001b[0m eta \u001b[36m0:00:00\u001b[0m\n",
      "\u001b[2K   \u001b[90m━━━━━━━━━━━━━━━━━━━━━━━━━━━━━━━━━━━━━━━━\u001b[0m \u001b[32m46.4/46.4 kB\u001b[0m \u001b[31m4.2 MB/s\u001b[0m eta \u001b[36m0:00:00\u001b[0m\n",
      "\u001b[2K   \u001b[90m━━━━━━━━━━━━━━━━━━━━━━━━━━━━━━━━━━━━━━━━\u001b[0m \u001b[32m40.6/40.6 kB\u001b[0m \u001b[31m3.7 MB/s\u001b[0m eta \u001b[36m0:00:00\u001b[0m\n",
      "\u001b[2K   \u001b[90m━━━━━━━━━━━━━━━━━━━━━━━━━━━━━━━━━━━━━━━━\u001b[0m \u001b[32m50.9/50.9 kB\u001b[0m \u001b[31m4.7 MB/s\u001b[0m eta \u001b[36m0:00:00\u001b[0m\n",
      "\u001b[?25h"
     ]
    }
   ],
   "source": [
    "# Install required packages\n",
    "!pip install -q \\\n",
    "    pypdf==5.6.0 \\\n",
    "    PyMuPDF==1.26.1 \\\n",
    "    python-dotenv==1.1.0 \\\n",
    "    langchain-community==0.3.25 \\\n",
    "    langchain_openai==0.3.23 \\\n",
    "    rank_bm25==0.2.2 \\\n",
    "    faiss-cpu==1.11.0 \\\n",
    "    deepeval==3.1.0\n"
   ]
  },
  {
   "cell_type": "code",
   "execution_count": 2,
   "metadata": {
    "colab": {
     "base_uri": "https://localhost:8080/"
    },
    "id": "GGVwzS4v-BE5",
    "outputId": "178413df-a4fe-4758-9027-c74f29047fe2"
   },
   "outputs": [
    {
     "name": "stdout",
     "output_type": "stream",
     "text": [
      "Cloning into 'RAG_TECHNIQUES'...\n",
      "remote: Enumerating objects: 1562, done.\u001b[K\n",
      "remote: Counting objects: 100% (811/811), done.\u001b[K\n",
      "remote: Compressing objects: 100% (345/345), done.\u001b[K\n",
      "remote: Total 1562 (delta 560), reused 466 (delta 466), pack-reused 751 (from 3)\u001b[K\n",
      "Receiving objects: 100% (1562/1562), 34.22 MiB | 34.69 MiB/s, done.\n",
      "Resolving deltas: 100% (984/984), done.\n"
     ]
    }
   ],
   "source": [
    "# Clone the repository to access helper functions and evaluation modules\n",
    "!git clone https://github.com/NirDiamant/RAG_TECHNIQUES.git\n",
    "import sys\n",
    "sys.path.append('RAG_TECHNIQUES')\n",
    "\n",
    "# If you need to run with the latest data\n",
    "# !cp -r RAG_TECHNIQUES/data ."
   ]
  },
  {
   "cell_type": "code",
   "execution_count": 14,
   "metadata": {
    "id": "ha6ASRqq-BE5"
   },
   "outputs": [],
   "source": [
    "import os\n",
    "import sys\n",
    "from dotenv import load_dotenv\n",
    "from google.colab import userdata\n",
    "from google.colab.userdata import SecretNotFoundError\n",
    "\n",
    "\n",
    "\n",
    "# Load environment variables from a .env file\n",
    "load_dotenv()\n",
    "\n",
    "# # Set the OpenAI API key environment variable (comment out if not using OpenAI)\n",
    "# if not userdata.get('OPENAI_API_KEY'):\n",
    "#     os.environ[\"OPENAI_API_KEY\"] = input(\"Please enter your OpenAI API key: \")\n",
    "# else:\n",
    "#     os.environ[\"OPENAI_API_KEY\"] = userdata.get('OPENAI_API_KEY')\n",
    "\n",
    "# Original path append replaced for Colab compatibility\n",
    "\n",
    "from langchain.document_loaders import PyPDFLoader\n",
    "from langchain.text_splitter import RecursiveCharacterTextSplitter\n",
    "from helper_functions import (EmbeddingProvider,\n",
    "                              retrieve_context_per_question,\n",
    "                              replace_t_with_space,\n",
    "                              get_langchain_embedding_provider,\n",
    "                              show_context)\n",
    "\n",
    "from evaluation.evalute_rag import evaluate_rag\n",
    "\n",
    "from langchain.vectorstores import FAISS\n",
    "from langchain.embeddings import HuggingFaceEmbeddings"
   ]
  },
  {
   "cell_type": "markdown",
   "metadata": {
    "id": "HVWdzMuw-BE5"
   },
   "source": [
    "### Read Docs"
   ]
  },
  {
   "cell_type": "code",
   "execution_count": 5,
   "metadata": {
    "colab": {
     "base_uri": "https://localhost:8080/"
    },
    "id": "AagmKvC0-BE6",
    "outputId": "80439422-3a27-47bf-dad4-2df657a8f348"
   },
   "outputs": [
    {
     "name": "stdout",
     "output_type": "stream",
     "text": [
      "--2025-07-12 08:43:55--  https://raw.githubusercontent.com/NirDiamant/RAG_TECHNIQUES/main/data/Understanding_Climate_Change.pdf\n",
      "Resolving raw.githubusercontent.com (raw.githubusercontent.com)... 185.199.111.133, 185.199.108.133, 185.199.110.133, ...\n",
      "Connecting to raw.githubusercontent.com (raw.githubusercontent.com)|185.199.111.133|:443... connected.\n",
      "HTTP request sent, awaiting response... 200 OK\n",
      "Length: 206372 (202K) [application/octet-stream]\n",
      "Saving to: ‘data/Understanding_Climate_Change.pdf’\n",
      "\n",
      "\r",
      "          data/Unde   0%[                    ]       0  --.-KB/s               \r",
      "data/Understanding_ 100%[===================>] 201.54K  --.-KB/s    in 0.003s  \n",
      "\n",
      "2025-07-12 08:43:55 (62.7 MB/s) - ‘data/Understanding_Climate_Change.pdf’ saved [206372/206372]\n",
      "\n",
      "--2025-07-12 08:43:55--  https://raw.githubusercontent.com/NirDiamant/RAG_TECHNIQUES/main/data/Understanding_Climate_Change.pdf\n",
      "Resolving raw.githubusercontent.com (raw.githubusercontent.com)... 185.199.108.133, 185.199.109.133, 185.199.110.133, ...\n",
      "Connecting to raw.githubusercontent.com (raw.githubusercontent.com)|185.199.108.133|:443... connected.\n",
      "HTTP request sent, awaiting response... 200 OK\n",
      "Length: 206372 (202K) [application/octet-stream]\n",
      "Saving to: ‘data/Understanding_Climate_Change.pdf’\n",
      "\n",
      "data/Understanding_ 100%[===================>] 201.54K  --.-KB/s    in 0.004s  \n",
      "\n",
      "2025-07-12 08:43:55 (43.8 MB/s) - ‘data/Understanding_Climate_Change.pdf’ saved [206372/206372]\n",
      "\n"
     ]
    }
   ],
   "source": [
    "# Download required data files\n",
    "import os\n",
    "os.makedirs('data', exist_ok=True)\n",
    "\n",
    "# Download the PDF document used in this notebook\n",
    "!wget -O data/Understanding_Climate_Change.pdf https://raw.githubusercontent.com/NirDiamant/RAG_TECHNIQUES/main/data/Understanding_Climate_Change.pdf\n",
    "!wget -O data/Understanding_Climate_Change.pdf https://raw.githubusercontent.com/NirDiamant/RAG_TECHNIQUES/main/data/Understanding_Climate_Change.pdf\n"
   ]
  },
  {
   "cell_type": "code",
   "execution_count": 6,
   "metadata": {
    "id": "KF5O4Wk4-BE6"
   },
   "outputs": [],
   "source": [
    "path = \"data/Understanding_Climate_Change.pdf\""
   ]
  },
  {
   "cell_type": "markdown",
   "metadata": {
    "id": "P0MAcEpU-BE6"
   },
   "source": [
    "### Encode document"
   ]
  },
  {
   "cell_type": "code",
   "execution_count": 19,
   "metadata": {
    "id": "38suL-tJ-BE7"
   },
   "outputs": [],
   "source": [
    "def encode_pdf(path, chunk_size=1000, chunk_overlap=200):\n",
    "    \"\"\"\n",
    "    Encodes a PDF book into a vector store using OpenAI embeddings.\n",
    "\n",
    "    Args:\n",
    "        path: The path to the PDF file.\n",
    "        chunk_size: The desired size of each text chunk.\n",
    "        chunk_overlap: The amount of overlap between consecutive chunks.\n",
    "\n",
    "    Returns:\n",
    "        A FAISS vector store containing the encoded book content.\n",
    "    \"\"\"\n",
    "\n",
    "    # Load PDF documents\n",
    "    loader = PyPDFLoader(path)\n",
    "    documents = loader.load()\n",
    "\n",
    "    # Split documents into chunks\n",
    "    text_splitter = RecursiveCharacterTextSplitter(\n",
    "        chunk_size=chunk_size, chunk_overlap=chunk_overlap, length_function=len\n",
    "    )\n",
    "    texts = text_splitter.split_documents(documents)\n",
    "    cleaned_texts = replace_t_with_space(texts)\n",
    "\n",
    "    #  # Create embeddings (Tested with OpenAI and Amazon Bedrock)\n",
    "    # embeddings = get_langchain_embedding_provider(EmbeddingProvider.OPENAI)\n",
    "    # #embeddings = get_langchain_embedding_provider(EmbeddingProvider.AMAZON_BEDROCK)\n",
    "\n",
    "    # Create embeddings (Free embedding)\n",
    "    embeddings = HuggingFaceEmbeddings(model_name=\"sentence-transformers/all-MiniLM-L6-v2\")\n",
    "\n",
    "    # Create vector store\n",
    "    vectorstore = FAISS.from_documents(cleaned_texts, embeddings)\n",
    "\n",
    "    return vectorstore"
   ]
  },
  {
   "cell_type": "code",
   "execution_count": 20,
   "metadata": {
    "colab": {
     "base_uri": "https://localhost:8080/",
     "height": 528,
     "referenced_widgets": [
      "b765f8ab13f04e36bee8f30b833e27f3",
      "7c546440818244e880d210ff5654300f",
      "ea703beafb24477a8a0180cae62778d1",
      "a91175f30d8044c3b1a9cd662a298f2c",
      "f8c1238d3d1c4751be94eecf21ac7aaf",
      "c98632cd3eac4e7bb5f88a4329427ce1",
      "41bc760009d445da946f3c58a75d0993",
      "b0b95db2200f47b5b25b9a68362e8aef",
      "bcf2a14f3cd94f5ab401a9e3b169dce9",
      "e3e09d46c4b14d52a0a9ccffa4fcf835",
      "74b2d3b5f0a740f68bd9a12b7ecb9a18",
      "211842bb36a44e3d9d6eacff7ffabad4",
      "47bba22a2a5b454887a54b6ab0957860",
      "86dc0a0a87d5471a9017a73946b573a6",
      "2e493367c5ba44f39700ac8b28cd8ca1",
      "0008d2f6ffb24da2b0a3630b7f2af0e0",
      "c71089870a5c4090a1c7e855d67db738",
      "2376c6e8250448d6839e7ceb5c721f5b",
      "7773e736e2854e08b28b7b1d44be26cc",
      "50c0eb7ac10541a3a97e813f65d8d952",
      "e555e258874249eb9da4de496980c7e5",
      "31776f91b6d54a968fc405d1a4f5a8a9",
      "39fe7d9257434442b7f3d43f76c37003",
      "233200d7240840388ca57526c9cbe31a",
      "ef2c616e74714edda5b0366ff6e65f81",
      "2f4c01f4cc79462cbee84fbba2e83093",
      "3eb3fbd5bcf84482b7b884f40b357be9",
      "36c6701b5b3d48db9597d84d3a8563b2",
      "b62decb357244b0db84ee7627c7b7b2a",
      "ff14027491574533ac11b3b1b9870d31",
      "617e3f5858b94e27a5c03c785ec1af68",
      "99a80b9a798b4cdeb3b4adb69d210611",
      "ec8cd0a5b5cd45b3a5e0e991277594cb",
      "61f8163323834a35817455bacd1a6c46",
      "9b4fb7bb870348e687206a7ececfc350",
      "fac93e49e92742c5a52e1de0de454df3",
      "cdd186a0e7c0482fa72947ad71ce5bc3",
      "1dadede51c784f32b1d22761785da62c",
      "137e1d8af1cd49a4a150007e683403c5",
      "d379ea897eac47908e0119472e95548c",
      "608a3e2a50ba4413a52bb1ff58c1bc35",
      "0b0e6c7856944a708531e573ce4c0e1d",
      "a7b65680580949648a9850c1ea44ad3a",
      "95623194075b43149f108701361f2519",
      "67253120e91f41648aa58142b44cbd25",
      "6b5f972244b54a91b2a529ba9de318e9",
      "e5b10a0d6d2b4dfc9666b7fa67174c15",
      "9f50be7a814b4aeeb0d3b118df375a39",
      "a97c16fb648641eea1cc22e3bbf82aa3",
      "265f8ab85bdc43e98203987d35afb49c",
      "e39e88984d104ea68202dafe434222fe",
      "c7b4f0024d894cfe9e5fd04ea70e9dcb",
      "6fff5b4e0aae4a16853ef7994352ee32",
      "4064cda93dff462f8a713556a6b497c8",
      "908413eaf42a4c11b1b83e6a28db100d",
      "94ecc62b180143e4991e88b45133cf3b",
      "c555987b7a4d4f689b4dae5850995afa",
      "33e6c60710cb4e4484f844f34b5950be",
      "b3db2a5af04647fd8e34d9f50e7ce210",
      "8b073417671d42c0a4fd2ca8b08e3947",
      "e6e31ac89214435d8b848093c68cedca",
      "e090207817184391bb9688fc528099c8",
      "74b633b5ebe24075957de494332837a7",
      "f7cbcd12ea5049319ad4706f34766e49",
      "fb05608a19f04beda327fc82fec8848a",
      "c6280891513b412c892508a87d623e4a",
      "d0b5adb019d04707ada5bae0f9541c13",
      "4372d7f1d9524c64a38c762faf8b2a5b",
      "6bafd15985c44bea810073b2bd3e7fdb",
      "a9d599fec15740b788d2891436acfc0c",
      "f358068c38af4b78862c8e4df9a03e35",
      "ad3bc3283d4b4ac3a4a9787f288d42c0",
      "c5353a0fe65146f2ba26326a4ea0a7bf",
      "975b269a31fb41f18ef1f97c69ad3d7e",
      "bd1ef9ff394948459dcbb8cd5d313e35",
      "34b62f49dcb4419e9ada7fd746d46d89",
      "a451b6b583324bd7aadb50fab91592f4",
      "a0595cb790ef4bf085aee2bc5158109f",
      "5fbb3dff91e04932873017610bb91620",
      "293a4f5d054f446583bf8cbbce5dfb45",
      "f7e2ba9eddee4b8dadf2866885b28da8",
      "45043df2e6964f6e8aac7034e3dca03f",
      "489a1334ffd74621943723f5a0866fa3",
      "19bb94b6e3ec4315a4b7c90377631be9",
      "28877d96a2b740e2bca4237b1038d2f5",
      "f652f001ce9f43849fb4ae952d11b363",
      "acca17696d4946529bc862f3a391496d",
      "8444b3dec7be4c0fae9cae7ba0c72634",
      "e939213458c3473cb1aa1e7e621e49be",
      "ba06a2d6dd024d62872f511a98987a5d",
      "cf92d12184924aedb5b6b2ea9d99acd9",
      "b25c67cfdf2f409bbe24a5e664b93af1",
      "162b00a0aa304bca9c6eeabe82247f6a",
      "1ebfe9b8667949f99f86336f76dd6f62",
      "ad98535e40a0473b84c72fb33eb9292f",
      "40d8ab4c0f314c55b6c850f45c45a984",
      "525d4488a28a4e78adb8d1900dc78521",
      "b9bf7551762c4ac7bf9519db03c0c355",
      "605394eb052f44f2b34cd4a425e1dfa4",
      "aab81fecf2f6445a81ce4b7e3f6a3b63",
      "7918cab36c804e31a05493a5e2354600",
      "f0b3dbb1b70d430289fe118ed96600c8",
      "593dfb59bdf74a48abb87ec2c1a77b5a",
      "eb053d6a90764ee2ab51ec7103e90960",
      "347acc9a88464e388b114cbe4195890e",
      "9d7f718541fa4033911c39566574def1",
      "19fbd69b21bf4ddc91eed15f046706cd",
      "b1313036396e4ca3a0e3a080b371e457",
      "29da7da565c7457e881029f32163ae78",
      "e1c810299f514573a7b8b549a2172c3a",
      "eb32945e8e7148aba9896de437223a97",
      "f13c7a303b8d4627aec7d4f061826d02",
      "63eadb373ad740ee92b82c7f53c299a7",
      "99e64ae6601c4c67a0d776e37d867a52",
      "89cefe6475814975afa7a970906059f0",
      "1ef0c4d8c4644e3e9a381fd9d33e7f96",
      "3c68e98ddb634771957bebec17c19713",
      "14c9d5440db14e8b9ee4f773c7d5868f",
      "a1f687ab39c9435eb9eb0e8001aca8b1",
      "87cedd96f51c493eb8f473525879c602",
      "f7877244f95b4633808c1c9fcbba1720"
     ]
    },
    "id": "8aysEXUh-BE7",
    "outputId": "7fd87094-b478-4418-c138-c79c905a7076"
   },
   "outputs": [
    {
     "name": "stderr",
     "output_type": "stream",
     "text": [
      "/tmp/ipython-input-19-1289584534.py:26: LangChainDeprecationWarning: The class `HuggingFaceEmbeddings` was deprecated in LangChain 0.2.2 and will be removed in 1.0. An updated version of the class exists in the :class:`~langchain-huggingface package and should be used instead. To use it run `pip install -U :class:`~langchain-huggingface` and import as `from :class:`~langchain_huggingface import HuggingFaceEmbeddings``.\n",
      "  embeddings = HuggingFaceEmbeddings(model_name=\"sentence-transformers/all-MiniLM-L6-v2\")\n",
      "/usr/local/lib/python3.11/dist-packages/huggingface_hub/utils/_auth.py:94: UserWarning: \n",
      "The secret `HF_TOKEN` does not exist in your Colab secrets.\n",
      "To authenticate with the Hugging Face Hub, create a token in your settings tab (https://huggingface.co/settings/tokens), set it as secret in your Google Colab and restart your session.\n",
      "You will be able to reuse this secret in all of your notebooks.\n",
      "Please note that authentication is recommended but still optional to access public models or datasets.\n",
      "  warnings.warn(\n"
     ]
    },
    {
     "data": {
      "application/vnd.jupyter.widget-view+json": {
       "model_id": "b765f8ab13f04e36bee8f30b833e27f3",
       "version_major": 2,
       "version_minor": 0
      },
      "text/plain": [
       "modules.json:   0%|          | 0.00/349 [00:00<?, ?B/s]"
      ]
     },
     "metadata": {},
     "output_type": "display_data"
    },
    {
     "data": {
      "application/vnd.jupyter.widget-view+json": {
       "model_id": "211842bb36a44e3d9d6eacff7ffabad4",
       "version_major": 2,
       "version_minor": 0
      },
      "text/plain": [
       "config_sentence_transformers.json:   0%|          | 0.00/116 [00:00<?, ?B/s]"
      ]
     },
     "metadata": {},
     "output_type": "display_data"
    },
    {
     "data": {
      "application/vnd.jupyter.widget-view+json": {
       "model_id": "39fe7d9257434442b7f3d43f76c37003",
       "version_major": 2,
       "version_minor": 0
      },
      "text/plain": [
       "README.md: 0.00B [00:00, ?B/s]"
      ]
     },
     "metadata": {},
     "output_type": "display_data"
    },
    {
     "data": {
      "application/vnd.jupyter.widget-view+json": {
       "model_id": "61f8163323834a35817455bacd1a6c46",
       "version_major": 2,
       "version_minor": 0
      },
      "text/plain": [
       "sentence_bert_config.json:   0%|          | 0.00/53.0 [00:00<?, ?B/s]"
      ]
     },
     "metadata": {},
     "output_type": "display_data"
    },
    {
     "data": {
      "application/vnd.jupyter.widget-view+json": {
       "model_id": "67253120e91f41648aa58142b44cbd25",
       "version_major": 2,
       "version_minor": 0
      },
      "text/plain": [
       "config.json:   0%|          | 0.00/612 [00:00<?, ?B/s]"
      ]
     },
     "metadata": {},
     "output_type": "display_data"
    },
    {
     "data": {
      "application/vnd.jupyter.widget-view+json": {
       "model_id": "94ecc62b180143e4991e88b45133cf3b",
       "version_major": 2,
       "version_minor": 0
      },
      "text/plain": [
       "model.safetensors:   0%|          | 0.00/90.9M [00:00<?, ?B/s]"
      ]
     },
     "metadata": {},
     "output_type": "display_data"
    },
    {
     "data": {
      "application/vnd.jupyter.widget-view+json": {
       "model_id": "d0b5adb019d04707ada5bae0f9541c13",
       "version_major": 2,
       "version_minor": 0
      },
      "text/plain": [
       "tokenizer_config.json:   0%|          | 0.00/350 [00:00<?, ?B/s]"
      ]
     },
     "metadata": {},
     "output_type": "display_data"
    },
    {
     "data": {
      "application/vnd.jupyter.widget-view+json": {
       "model_id": "a0595cb790ef4bf085aee2bc5158109f",
       "version_major": 2,
       "version_minor": 0
      },
      "text/plain": [
       "vocab.txt: 0.00B [00:00, ?B/s]"
      ]
     },
     "metadata": {},
     "output_type": "display_data"
    },
    {
     "data": {
      "application/vnd.jupyter.widget-view+json": {
       "model_id": "e939213458c3473cb1aa1e7e621e49be",
       "version_major": 2,
       "version_minor": 0
      },
      "text/plain": [
       "tokenizer.json: 0.00B [00:00, ?B/s]"
      ]
     },
     "metadata": {},
     "output_type": "display_data"
    },
    {
     "data": {
      "application/vnd.jupyter.widget-view+json": {
       "model_id": "aab81fecf2f6445a81ce4b7e3f6a3b63",
       "version_major": 2,
       "version_minor": 0
      },
      "text/plain": [
       "special_tokens_map.json:   0%|          | 0.00/112 [00:00<?, ?B/s]"
      ]
     },
     "metadata": {},
     "output_type": "display_data"
    },
    {
     "data": {
      "application/vnd.jupyter.widget-view+json": {
       "model_id": "eb32945e8e7148aba9896de437223a97",
       "version_major": 2,
       "version_minor": 0
      },
      "text/plain": [
       "config.json:   0%|          | 0.00/190 [00:00<?, ?B/s]"
      ]
     },
     "metadata": {},
     "output_type": "display_data"
    }
   ],
   "source": [
    "chunks_vector_store = encode_pdf(path, chunk_size=1000, chunk_overlap=200)"
   ]
  },
  {
   "cell_type": "markdown",
   "metadata": {
    "id": "YaCrjGRA-BE7"
   },
   "source": [
    "### Create retriever"
   ]
  },
  {
   "cell_type": "code",
   "execution_count": 21,
   "metadata": {
    "id": "wgVN3-y1-BE7"
   },
   "outputs": [],
   "source": [
    "chunks_query_retriever = chunks_vector_store.as_retriever(search_kwargs={\"k\": 2})"
   ]
  },
  {
   "cell_type": "markdown",
   "metadata": {
    "id": "jQJUmIXS-BE7"
   },
   "source": [
    "### Test retriever"
   ]
  },
  {
   "cell_type": "code",
   "execution_count": 22,
   "metadata": {
    "colab": {
     "base_uri": "https://localhost:8080/"
    },
    "id": "sC9jmnHM-BE7",
    "outputId": "d43a7d2f-6cb6-4400-e444-91b6dbcc8b88"
   },
   "outputs": [
    {
     "name": "stdout",
     "output_type": "stream",
     "text": [
      "Context 1:\n",
      "Chapter 2: Causes of Climate Change \n",
      "Greenhouse Gases \n",
      "The primary cause of recent climate change is the increase in greenhouse gases in the \n",
      "atmosphere. Greenhouse gases, such as carbon dioxide (CO2), methane (CH4), and nitrous \n",
      "oxide (N2O), trap heat from the sun, creating a \"greenhouse effect.\" This effect is essential \n",
      "for life on Earth, as it keeps the planet warm enough to support life. However, human \n",
      "activities have intensified this natural process, leading to a warmer climate. \n",
      "Fossil Fuels \n",
      "Burning fossil fuels for energy releases large amounts of CO2. This includes coal, oil, and \n",
      "natural gas used for electricity, heating, and transportation. The industrial revolution marked \n",
      "the beginning of a significant increase in fossil fuel consumption, which continues to rise \n",
      "today. \n",
      "Coal\n",
      "\n",
      "\n",
      "Context 2:\n",
      "Most of these climate changes are attributed to very small variations in Earth's orbit that \n",
      "change the amount of solar energy our planet receives. During the Holocene epoch, which \n",
      "began at the end of the last ice age, human societies flourished, but the industrial era has seen \n",
      "unprecedented changes. \n",
      "Modern Observations \n",
      "Modern scientific observations indicate a rapid increase in global temperatures, sea levels, \n",
      "and extreme weather events. The Intergovernmental Panel on Climate Change (IPCC) has \n",
      "documented these changes extensively. Ice core samples, tree rings, and ocean sediments \n",
      "provide a historical record that scientists use to understand past climate conditions and \n",
      "predict future trends. The evidence overwhelmingly shows that recent changes are primarily \n",
      "driven by human activities, particularly the emission of greenhouse gases. \n",
      "Chapter 2: Causes of Climate Change \n",
      "Greenhouse Gases \n",
      "The primary cause of recent climate change is the increase in greenhouse gases in the\n",
      "\n",
      "\n"
     ]
    },
    {
     "name": "stderr",
     "output_type": "stream",
     "text": [
      "/content/RAG_TECHNIQUES/helper_functions.py:143: LangChainDeprecationWarning: The method `BaseRetriever.get_relevant_documents` was deprecated in langchain-core 0.1.46 and will be removed in 1.0. Use :meth:`~invoke` instead.\n",
      "  docs = chunks_query_retriever.get_relevant_documents(question)\n"
     ]
    }
   ],
   "source": [
    "test_query = \"What is the main cause of climate change?\"\n",
    "context = retrieve_context_per_question(test_query, chunks_query_retriever)\n",
    "show_context(context)"
   ]
  },
  {
   "cell_type": "markdown",
   "metadata": {
    "id": "MbrMQXnX-BE8"
   },
   "source": [
    "### Evaluate results"
   ]
  },
  {
   "cell_type": "code",
   "execution_count": 25,
   "metadata": {
    "id": "-Cjmro4s-BE8"
   },
   "outputs": [],
   "source": [
    "#Note - this currently works with OPENAI only\n",
    "# evaluate_rag(chunks_query_retriever)"
   ]
  },
  {
   "cell_type": "code",
   "execution_count": null,
   "metadata": {
    "id": "77cFwBpjVMWP"
   },
   "outputs": [],
   "source": []
  }
 ],
 "metadata": {
  "colab": {
   "include_colab_link": true,
   "provenance": []
  },
  "kernelspec": {
   "display_name": "Python 3",
   "name": "python3"
  },
  "language_info": {
   "codemirror_mode": {
    "name": "ipython",
    "version": 3
   },
   "file_extension": ".py",
   "mimetype": "text/x-python",
   "name": "python",
   "nbconvert_exporter": "python",
   "pygments_lexer": "ipython3",
   "version": "3.12.0"
  }
 },
 "nbformat": 4,
 "nbformat_minor": 0
}
